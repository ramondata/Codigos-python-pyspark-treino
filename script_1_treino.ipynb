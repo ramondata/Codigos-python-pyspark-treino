{
 "cells": [
  {
   "cell_type": "markdown",
   "id": "9e2fde60",
   "metadata": {},
   "source": [
    "#Script 1 pyspark"
   ]
  },
  {
   "cell_type": "code",
   "execution_count": 29,
   "id": "537cf05a",
   "metadata": {},
   "outputs": [],
   "source": [
    "import sys\n",
    "import spark\n",
    "import pyspark"
   ]
  },
  {
   "cell_type": "code",
   "execution_count": 3,
   "id": "400f1438",
   "metadata": {},
   "outputs": [
    {
     "name": "stdout",
     "output_type": "stream",
     "text": [
      "3.9.6 (tags/v3.9.6:db3ff76, Jun 28 2021, 15:26:21) [MSC v.1929 64 bit (AMD64)]\n"
     ]
    }
   ],
   "source": [
    "print(sys.version)"
   ]
  },
  {
   "cell_type": "code",
   "execution_count": 4,
   "id": "49c91b3a",
   "metadata": {},
   "outputs": [
    {
     "data": {
      "text/html": [
       "\n",
       "        <div>\n",
       "            <p><b>SparkContext</b></p>\n",
       "\n",
       "            <p><a href=\"http://Ramonpessoal:4041\">Spark UI</a></p>\n",
       "\n",
       "            <dl>\n",
       "              <dt>Version</dt>\n",
       "                <dd><code>v3.2.0</code></dd>\n",
       "              <dt>Master</dt>\n",
       "                <dd><code>local[*]</code></dd>\n",
       "              <dt>AppName</dt>\n",
       "                <dd><code>PySparkShell</code></dd>\n",
       "            </dl>\n",
       "        </div>\n",
       "        "
      ],
      "text/plain": [
       "<SparkContext master=local[*] appName=PySparkShell>"
      ]
     },
     "execution_count": 4,
     "metadata": {},
     "output_type": "execute_result"
    }
   ],
   "source": [
    "sc"
   ]
  },
  {
   "cell_type": "code",
   "execution_count": 6,
   "id": "68ce7ee8",
   "metadata": {},
   "outputs": [],
   "source": [
    "lista_python = ['Ramon', 'Carol', 'Chico']"
   ]
  },
  {
   "cell_type": "code",
   "execution_count": 8,
   "id": "f6e66956",
   "metadata": {},
   "outputs": [],
   "source": [
    "lista_RDD = spark.sparkContext.parallelize(lista_python, 3)"
   ]
  },
  {
   "cell_type": "code",
   "execution_count": 9,
   "id": "7ab1a3bb",
   "metadata": {},
   "outputs": [
    {
     "data": {
      "text/plain": [
       "['Ramon', 'Carol', 'Chico']"
      ]
     },
     "execution_count": 9,
     "metadata": {},
     "output_type": "execute_result"
    }
   ],
   "source": [
    "lista_RDD.collect()"
   ]
  },
  {
   "cell_type": "code",
   "execution_count": 10,
   "id": "f94397de",
   "metadata": {},
   "outputs": [
    {
     "data": {
      "text/plain": [
       "3"
      ]
     },
     "execution_count": 10,
     "metadata": {},
     "output_type": "execute_result"
    }
   ],
   "source": [
    "lista_RDD.count()"
   ]
  },
  {
   "cell_type": "code",
   "execution_count": 11,
   "id": "6fd48480",
   "metadata": {},
   "outputs": [
    {
     "data": {
      "text/plain": [
       "3"
      ]
     },
     "execution_count": 11,
     "metadata": {},
     "output_type": "execute_result"
    }
   ],
   "source": [
    "lista_RDD.getNumPartitions()"
   ]
  },
  {
   "cell_type": "code",
   "execution_count": 12,
   "id": "29c369fc",
   "metadata": {},
   "outputs": [],
   "source": [
    "lista_RDD_2 = spark.sparkContext.parallelize(lista_python, 2)"
   ]
  },
  {
   "cell_type": "code",
   "execution_count": 13,
   "id": "44790d49",
   "metadata": {},
   "outputs": [
    {
     "data": {
      "text/plain": [
       "2"
      ]
     },
     "execution_count": 13,
     "metadata": {},
     "output_type": "execute_result"
    }
   ],
   "source": [
    "lista_RDD_2.getNumPartitions()"
   ]
  },
  {
   "cell_type": "code",
   "execution_count": 18,
   "id": "c8097107",
   "metadata": {},
   "outputs": [],
   "source": [
    "read_csv_food = spark.sparkContext.textFile('food_coded.csv')"
   ]
  },
  {
   "cell_type": "code",
   "execution_count": 19,
   "id": "3fd52195",
   "metadata": {},
   "outputs": [
    {
     "data": {
      "text/plain": [
       "['GPA,Gender,breakfast,calories_chicken,calories_day,calories_scone,coffee,comfort_food,comfort_food_reasons,comfort_food_reasons_coded,cook,comfort_food_reasons_coded,cuisine,diet_current,diet_current_coded,drink,eating_changes,eating_changes_coded,eating_changes_coded1,eating_out,employment,ethnic_food,exercise,father_education,father_profession,fav_cuisine,fav_cuisine_coded,fav_food,food_childhood,fries,fruit_day,grade_level,greek_food,healthy_feeling,healthy_meal,ideal_diet,ideal_diet_coded,income,indian_food,italian_food,life_rewarding,marital_status,meals_dinner_friend,mother_education,mother_profession,nutritional_check,on_off_campus,parents_cook,pay_meal_out,persian_food,self_perception_weight,soup,sports,thai_food,tortilla_calories,turkey_calories,type_sports,veggies_day,vitamins,waffle_calories,weight',\n",
       " '2.4,2,1,430,nan,315,1,none,we dont have comfort ,9,2,9,nan,eat good and exercise,1,1,eat faster ,1,1,3,3,1,1,5,profesor ,Arabic cuisine,3,1,rice  and chicken ,2,5,2,5,2,looks not oily ,being healthy ,8,5,5,5,1,1,\"rice, chicken,  soup\",1,unemployed,5,1,1,2,5,3,1,1,1,1165,345,car racing,5,1,1315,187']"
      ]
     },
     "execution_count": 19,
     "metadata": {},
     "output_type": "execute_result"
    }
   ],
   "source": [
    "read_csv_food.take(2)"
   ]
  },
  {
   "cell_type": "code",
   "execution_count": 30,
   "id": "1f0d834d",
   "metadata": {},
   "outputs": [],
   "source": [
    "read_csv_food_sc = sc.textFile('food_coded.csv')"
   ]
  },
  {
   "cell_type": "code",
   "execution_count": 31,
   "id": "32830736",
   "metadata": {},
   "outputs": [
    {
     "data": {
      "text/plain": [
       "['GPA,Gender,breakfast,calories_chicken,calories_day,calories_scone,coffee,comfort_food,comfort_food_reasons,comfort_food_reasons_coded,cook,comfort_food_reasons_coded,cuisine,diet_current,diet_current_coded,drink,eating_changes,eating_changes_coded,eating_changes_coded1,eating_out,employment,ethnic_food,exercise,father_education,father_profession,fav_cuisine,fav_cuisine_coded,fav_food,food_childhood,fries,fruit_day,grade_level,greek_food,healthy_feeling,healthy_meal,ideal_diet,ideal_diet_coded,income,indian_food,italian_food,life_rewarding,marital_status,meals_dinner_friend,mother_education,mother_profession,nutritional_check,on_off_campus,parents_cook,pay_meal_out,persian_food,self_perception_weight,soup,sports,thai_food,tortilla_calories,turkey_calories,type_sports,veggies_day,vitamins,waffle_calories,weight',\n",
       " '2.4,2,1,430,nan,315,1,none,we dont have comfort ,9,2,9,nan,eat good and exercise,1,1,eat faster ,1,1,3,3,1,1,5,profesor ,Arabic cuisine,3,1,rice  and chicken ,2,5,2,5,2,looks not oily ,being healthy ,8,5,5,5,1,1,\"rice, chicken,  soup\",1,unemployed,5,1,1,2,5,3,1,1,1,1165,345,car racing,5,1,1315,187']"
      ]
     },
     "execution_count": 31,
     "metadata": {},
     "output_type": "execute_result"
    }
   ],
   "source": [
    "read_csv_food_sc.take(2)"
   ]
  },
  {
   "cell_type": "code",
   "execution_count": 32,
   "id": "48eeb38a",
   "metadata": {},
   "outputs": [],
   "source": [
    "salvar_rdd = open('saved_food.csv', 'w')\n",
    "salvar_rdd.write('\\n'.join(read_csv_food_sc.take(2)))\n",
    "salvar_rdd.close()"
   ]
  },
  {
   "cell_type": "code",
   "execution_count": 33,
   "id": "94e14039",
   "metadata": {},
   "outputs": [
    {
     "data": {
      "text/plain": [
       "'GPA,Gender,breakfast,calories_chicken,calories_day,calories_scone,coffee,comfort_food,comfort_food_reasons,comfort_food_reasons_coded,cook,comfort_food_reasons_coded,cuisine,diet_current,diet_current_coded,drink,eating_changes,eating_changes_coded,eating_changes_coded1,eating_out,employment,ethnic_food,exercise,father_education,father_profession,fav_cuisine,fav_cuisine_coded,fav_food,food_childhood,fries,fruit_day,grade_level,greek_food,healthy_feeling,healthy_meal,ideal_diet,ideal_diet_coded,income,indian_food,italian_food,life_rewarding,marital_status,meals_dinner_friend,mother_education,mother_profession,nutritional_check,on_off_campus,parents_cook,pay_meal_out,persian_food,self_perception_weight,soup,sports,thai_food,tortilla_calories,turkey_calories,type_sports,veggies_day,vitamins,waffle_calories,weight'"
      ]
     },
     "execution_count": 33,
     "metadata": {},
     "output_type": "execute_result"
    }
   ],
   "source": [
    "read_csv_food_sc.first()"
   ]
  },
  {
   "cell_type": "code",
   "execution_count": 36,
   "id": "c78c4cb8",
   "metadata": {},
   "outputs": [
    {
     "data": {
      "text/plain": [
       "['3.3,1,1,430,3,315,2,\"Mac and cheese, chocolate, and pasta \",\"Stress, anger and sadness \",1,3,1,1,\"I eat healthy all the time when possible. I treat myself occasionally. I don\\'t really like the greasy meals, if anything I would eat sweets over the greasy meals.  \",1,1,I cook a lot of my own foods back at home so not being able to cook my own healthy choices. I eat more carbs than normal when I\\'m at college due to the choices given in the cafe. ,1,3,3,3,5,1,5,commissioner of erie county ,Italian ,1,1,\"Pasta, Eggs, Pancakes \",1,5,1,5,3,Chicken and rice with a side of veggies. ,\"Lots of protein, carbs, and fruits and veggies. \",2,4,4,5,3,2,pasta salad and bread,5,Pharmaceutical rep,5,1,3,3,4,3,1,1,4,580,345,field hockey,5,1,900,125',\n",
       " '3.605,1,1,610,3,315,2,\"Mac and cheese, fried chicken, cornbread \",\"Hunger, boredom\",4,3,4,1,\"Healthy, includes many fruits and vegetables. Probably too many carbs. \",1,1,I eat smaller portions more often,2,5,2,2,5,nan,4,Banker,Greek,1,1,\"Hamloaf, tuna fish salad, mac and cheese \",1,5,2,5,3,Colorful ,\"The same as my current diet, maybe less carbs. \",6,6,5,5,3,2,\"Tacos, spaghetti, grilled cheese\",4,Registered Nurse,2,1,2,4,5,1,1,2,5,940,500,none,5,2,900,113',\n",
       " '3.5,2,1,610,3,420,2,\"peanut butter sandwich, pretzals, garlic bread\",\"stress, anger and boredom\",1,1,1,2,Very healthy and clean. A lot of protein and vegetables,1,1,I eat a lot more healthier,2,5,3,3,5,1,4,Sergeant correctional officer,Italian,1,1,Chicken Alfredo,2,5,2,5,10,High protein and vegetables,Clean diet. High protein intake.,7,6,4,5,10,1,\"Chicken, Steak, Pasta\",5,Teacher,4,1,1,6,2,2,1,1,4,940,690,hockey,5,1,900,165',\n",
       " '2.8,1,1,610,4,980,2,Pizza chocolate chips bagels ice Capps ,Just cause ,9,2,9,1,I eat very heathy on a daily basis ,1,1,Really paid more attention to what I eat cause it is easy to gain ,2,5,3,2,2,1,2,Owns his business,Wraps ,5,3,Pizza pasta and quesadillas ,2,4,2,5,9,Chicken and broccoli ,\"Fruits and vegetables, wheat bread, peanut butter, protein bars, protein shakes \",2,5,2,5,10,1,\"chicken, pizza, stuffed shells\",4,Sales,5,1,1,3,1,2,2,1,2,725,345,softball,4,1,1315,140',\n",
       " '4,1,1,720,nan,420,2,\"Chocolate, ice cream, cookie dough\",\"Boredom, being in your period, and long bus rides for softball\",2,2,2,1,\"My meals consist of a vegetable, a meat and usually a carbohydrate. I eat a lot of fruit and snack in between meals on little things.\",1,1,I tend to snack more and have smaller meals.,1,11,1,2,5,1,2,Transportation ,Italian ,1,1,Spaghetti ,2,5,3,3,5,\"A balanced meal with a protein, carbohydrate and a vegetable.\",\"I would like to eat less carbohydrates, such as pasta and breads. I wish I knew how to incorporate healthier alternatives to the foods I eat.\",3,5,4,5,2,2,\"Spaghetti, steak, or chicken\",4,Social Services,4,1,1,6,3,4,1,1,4,1165,690,Softball,5,1,1315,140',\n",
       " '3.2,2,1,720,nan,420,2,\"Mac and cheese, lasagna, Chinese food \",\"Boredom, sadness\",2,4,2,1,Very poor. Heavy carb consumption. ,2,2,I eat alot of carbs and eat much more frequently,1,2,2,3,5,3,5,Senior Manager,Italian,1,1,\"Spaghetti, Italian potato soup\",1,4,1,4,6,\"Fruits, vegetables, meat \",\"Alot of fruits and veggies. Meat and bread. Water, because hydration is important kids\",2,4,5,5,6,1,\"Salmon, hamburger surprise, Italian potato soup\",4,Stay at home mother,1,1,1,4,5,3,1,2,5,1165,690,nan,5,2,1315,165',\n",
       " '3.4,1,1,610,nan,420,2,\"macaroni and cheese, stuffed peppers, hamburgers, french fries\",\"boredom, stress, mood swings\",2,3,2,1,At this time it is very touch and go. Some days I live on sandwiches and ice cream while other days I eat lots of fruits and vegetables. ,2,2,I eat a lot more carbs than I did when I lived at home.,1,11,2,2,5,3,4,salesman,sushi,4,3,\"chicken nuggets, macaroni and cheese\",1,5,1,5,3,More vegetables and fruits as opposed to meat and bread/potatoes,\"If at all possible, I would like to be able to eat a lot healthier. I would like to eat more fruits and vegetables with the hope of eventually going vegetarian.\",2,5,4,5,3,1,nan,4,social worker,4,1,1,2,4,5,1,2,3,1165,500,nan,5,2,1315,160',\n",
       " 'nan,1,1,610,4,420,2,\"Pizza, mashed potatoes, spaghetti\",\"Anger, sadness\",3,2,3,1,\"A very healthy diet. Avoiding junk foods, and any white breads. \",1,2,\"Avoiding \"\"easy options\"\" such as junk foods \",2,5,3,3,5,1,5,Mechanical Engineer,Italian,1,3,Pizza,1,5,2,2,7,\"A protein, veggies, and a carb\",\"A very healthy diet, with the occasional splurging on junk foods. \",3,nan,1,5,7,1,nan,5,Secretary,5,1,2,3,1,4,1,2,2,940,500,nan,5,1,900,135',\n",
       " '3.7,1,1,610,3,420,2,\"dark chocolate, terra chips, reese\\'s cups(dark chocolate), and bread/crackers with cottage cheese\",\"Anxiousness, watching TV I desire \"\"comfort food\"\" \",8,2,5,1,I have been eating mainly proteins and some fruits and vegetables every day with some less healthy snack foods.  ,1,1,\"Coming to college I have ate less well colored meals each day due to lack of income and desire to save money. I used to eat more fruits and vegetables, more chicken and salmon, now these habits have lightened up and are not as frequent and regular in the week. I have also started eating more bread and dairy products.\",1,3,2,2,5,2,4,GE Salesman,Indian food,8,1,Tortellini and Broccoli with parmesan cheese and homemade breaded chicken with sweet potato,1,5,3,3,4,\"Salmon, sweet potato, and larger portion, but equally spread of broccoli, squash, zucchini, carrots, and tomatoes.\",\"I would like my diet to fulfill all the colors of the rainbow, with mainly fruits and vegetables as the primary source of intake, and about one fourth intake of proteins, and little to no snacks per day.  \",2,4,5,5,8,1,\"Spaghetti and pasta, seasoned salmon with steamed or boiled broccoli, or soup with ritz crackers if I was busy that day.\",4,Respiratory Therapist,4,1,2,3,3,6,1,2,3,725,345,\"When I can, rarely though play pool, darts, and basketball.\",5,1,760,130',\n",
       " '3.9,1,1,610,4,315,2,\"Chocolate, Ice cream, pizza\",\"Sadness, happiness and boredom\",,1,3,1,I eat a lot of proteins and fruit and vegetables. I try to stay away from carbohydrates and sugary foods.,1,1,I had to change a lot. I keep track of calories and cut out most breads and wraps.,2,5,4,3,5,1,5,Mechanical Engineer ,Italian ,1,3,\"Mac & Cheese, Chicken, Stir Fry \",1,5,4,5,10,A pice of meat such as chicken with a side of vegetables and possibly a salad,I wouldn\\'t want or crave any sweets or breads.I would be satisfied with protein and fruit and veggies. ,4,6,5,5,9,2,\"Dinner, Lunch, Dessert \",5,Fourth Grade Teacher ,4,1,2,3,5,3,1,2,5,725,500,nan,3,2,900,129',\n",
       " '3.5,1,1,610,4,420,2,\"wine. mac and cheese, pizza, ice cream \",boredom and sadness ,,3,2,1,\"My diet consists mainly of coffee, water, fruits, vegetables, and chicken. I tend to stay away from bread and pasta as much as possible. \",2,2,\"I have noticed there is less time for a prepared meal, so quick and easy has become the norm.\",1,3,2,1,4,2,4,Accountant ,Italian ,1,1,Stromboli Mac and Cheese and Pizza,1,5,4,5,5,mainly protein and vegetables with a complex carb ,\"My ideal diet would consist of a majority of what I consume now. I like to think I make pretty healthy choices currently, so it would most likely remain the same.\",6,4,3,5,7,1,\"pasta, fish, steak\",3,Radiological Technician ,5,3,1,4,3,4,1,1,5,940,500,Softball,5,1,1315,156']"
      ]
     },
     "execution_count": 36,
     "metadata": {},
     "output_type": "execute_result"
    }
   ],
   "source": [
    "filtrar_palavra = read_csv_food_sc.filter(lambda x: 'bread' in x)\n",
    "filtrar_palavra.collect()"
   ]
  },
  {
   "cell_type": "code",
   "execution_count": 37,
   "id": "16283f5b",
   "metadata": {},
   "outputs": [
    {
     "data": {
      "text/plain": [
       "food_coded.csv MapPartitionsRDD[17] at textFile at NativeMethodAccessorImpl.java:0"
      ]
     },
     "execution_count": 37,
     "metadata": {},
     "output_type": "execute_result"
    }
   ],
   "source": [
    "read_csv_food_sc.cache()"
   ]
  },
  {
   "cell_type": "code",
   "execution_count": 1,
   "id": "9fb2ffd6",
   "metadata": {},
   "outputs": [],
   "source": []
  },
  {
   "cell_type": "code",
   "execution_count": 2,
   "id": "4731a402",
   "metadata": {},
   "outputs": [
    {
     "name": "stdout",
     "output_type": "stream",
     "text": [
      "<class 'pandas.core.frame.DataFrame'>\n",
      "RangeIndex: 3 entries, 0 to 2\n",
      "Data columns (total 4 columns):\n",
      " #   Column  Non-Null Count  Dtype \n",
      "---  ------  --------------  ----- \n",
      " 0   id      3 non-null      int64 \n",
      " 1   nome    3 non-null      object\n",
      " 2   idade   3 non-null      int64 \n",
      " 3   relato  3 non-null      object\n",
      "dtypes: int64(2), object(2)\n",
      "memory usage: 224.0+ bytes\n"
     ]
    }
   ],
   "source": [
    "\n"
   ]
  },
  {
   "cell_type": "code",
   "execution_count": 3,
   "id": "05a058e3",
   "metadata": {},
   "outputs": [
    {
     "data": {
      "text/html": [
       "<div>\n",
       "<style scoped>\n",
       "    .dataframe tbody tr th:only-of-type {\n",
       "        vertical-align: middle;\n",
       "    }\n",
       "\n",
       "    .dataframe tbody tr th {\n",
       "        vertical-align: top;\n",
       "    }\n",
       "\n",
       "    .dataframe thead th {\n",
       "        text-align: right;\n",
       "    }\n",
       "</style>\n",
       "<table border=\"1\" class=\"dataframe\">\n",
       "  <thead>\n",
       "    <tr style=\"text-align: right;\">\n",
       "      <th></th>\n",
       "      <th>id</th>\n",
       "      <th>nome</th>\n",
       "      <th>idade</th>\n",
       "      <th>relato</th>\n",
       "    </tr>\n",
       "  </thead>\n",
       "  <tbody>\n",
       "    <tr>\n",
       "      <th>0</th>\n",
       "      <td>1</td>\n",
       "      <td>Ramon</td>\n",
       "      <td>29</td>\n",
       "      <td>Legal é estar com a familia</td>\n",
       "    </tr>\n",
       "    <tr>\n",
       "      <th>1</th>\n",
       "      <td>2</td>\n",
       "      <td>Carol</td>\n",
       "      <td>29</td>\n",
       "      <td>Legal é estar com a familia</td>\n",
       "    </tr>\n",
       "    <tr>\n",
       "      <th>2</th>\n",
       "      <td>3</td>\n",
       "      <td>Chico</td>\n",
       "      <td>2</td>\n",
       "      <td>Legal é estar com a familia</td>\n",
       "    </tr>\n",
       "  </tbody>\n",
       "</table>\n",
       "</div>"
      ],
      "text/plain": [
       "   id   nome  idade                       relato\n",
       "0   1  Ramon     29  Legal é estar com a familia\n",
       "1   2  Carol     29  Legal é estar com a familia\n",
       "2   3  Chico      2  Legal é estar com a familia"
      ]
     },
     "execution_count": 3,
     "metadata": {},
     "output_type": "execute_result"
    }
   ],
   "source": []
  },
  {
   "cell_type": "code",
   "execution_count": null,
   "id": "1ec26ed4",
   "metadata": {},
   "outputs": [],
   "source": []
  }
 ],
 "metadata": {
  "kernelspec": {
   "display_name": "Python 3 (ipykernel)",
   "language": "python",
   "name": "python3"
  },
  "language_info": {
   "codemirror_mode": {
    "name": "ipython",
    "version": 3
   },
   "file_extension": ".py",
   "mimetype": "text/x-python",
   "name": "python",
   "nbconvert_exporter": "python",
   "pygments_lexer": "ipython3",
   "version": "3.9.6"
  }
 },
 "nbformat": 4,
 "nbformat_minor": 5
}
