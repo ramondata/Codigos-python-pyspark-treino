{
 "cells": [
  {
   "cell_type": "code",
   "execution_count": 1,
   "id": "b9545f79",
   "metadata": {},
   "outputs": [],
   "source": [
    "from pyspark.sql import SparkSession"
   ]
  },
  {
   "cell_type": "code",
   "execution_count": 5,
   "id": "e9950266",
   "metadata": {},
   "outputs": [],
   "source": [
    "spark = SparkSession.builder.appName('DataFrame').getOrCreate()"
   ]
  },
  {
   "cell_type": "code",
   "execution_count": 7,
   "id": "e087ecf8",
   "metadata": {},
   "outputs": [
    {
     "data": {
      "text/html": [
       "\n",
       "            <div>\n",
       "                <p><b>SparkSession - hive</b></p>\n",
       "                \n",
       "        <div>\n",
       "            <p><b>SparkContext</b></p>\n",
       "\n",
       "            <p><a href=\"http://Ramonpessoal.mshome.net:4040\">Spark UI</a></p>\n",
       "\n",
       "            <dl>\n",
       "              <dt>Version</dt>\n",
       "                <dd><code>v3.2.0</code></dd>\n",
       "              <dt>Master</dt>\n",
       "                <dd><code>local[*]</code></dd>\n",
       "              <dt>AppName</dt>\n",
       "                <dd><code>PySparkShell</code></dd>\n",
       "            </dl>\n",
       "        </div>\n",
       "        \n",
       "            </div>\n",
       "        "
      ],
      "text/plain": [
       "<pyspark.sql.session.SparkSession at 0x11b5ea854f0>"
      ]
     },
     "execution_count": 7,
     "metadata": {},
     "output_type": "execute_result"
    }
   ],
   "source": [
    "spark"
   ]
  },
  {
   "cell_type": "code",
   "execution_count": 9,
   "id": "837b7422",
   "metadata": {},
   "outputs": [],
   "source": [
    "df_dados = spark.read.csv('Desktop\\Pyspark\\Script\\saved_food.csv')"
   ]
  },
  {
   "cell_type": "code",
   "execution_count": 10,
   "id": "7bf0ed0f",
   "metadata": {},
   "outputs": [
    {
     "name": "stdout",
     "output_type": "stream",
     "text": [
      "root\n",
      " |-- _c0: string (nullable = true)\n",
      " |-- _c1: string (nullable = true)\n",
      " |-- _c2: string (nullable = true)\n",
      " |-- _c3: string (nullable = true)\n",
      " |-- _c4: string (nullable = true)\n",
      " |-- _c5: string (nullable = true)\n",
      " |-- _c6: string (nullable = true)\n",
      " |-- _c7: string (nullable = true)\n",
      " |-- _c8: string (nullable = true)\n",
      " |-- _c9: string (nullable = true)\n",
      " |-- _c10: string (nullable = true)\n",
      " |-- _c11: string (nullable = true)\n",
      " |-- _c12: string (nullable = true)\n",
      " |-- _c13: string (nullable = true)\n",
      " |-- _c14: string (nullable = true)\n",
      " |-- _c15: string (nullable = true)\n",
      " |-- _c16: string (nullable = true)\n",
      " |-- _c17: string (nullable = true)\n",
      " |-- _c18: string (nullable = true)\n",
      " |-- _c19: string (nullable = true)\n",
      " |-- _c20: string (nullable = true)\n",
      " |-- _c21: string (nullable = true)\n",
      " |-- _c22: string (nullable = true)\n",
      " |-- _c23: string (nullable = true)\n",
      " |-- _c24: string (nullable = true)\n",
      " |-- _c25: string (nullable = true)\n",
      " |-- _c26: string (nullable = true)\n",
      " |-- _c27: string (nullable = true)\n",
      " |-- _c28: string (nullable = true)\n",
      " |-- _c29: string (nullable = true)\n",
      " |-- _c30: string (nullable = true)\n",
      " |-- _c31: string (nullable = true)\n",
      " |-- _c32: string (nullable = true)\n",
      " |-- _c33: string (nullable = true)\n",
      " |-- _c34: string (nullable = true)\n",
      " |-- _c35: string (nullable = true)\n",
      " |-- _c36: string (nullable = true)\n",
      " |-- _c37: string (nullable = true)\n",
      " |-- _c38: string (nullable = true)\n",
      " |-- _c39: string (nullable = true)\n",
      " |-- _c40: string (nullable = true)\n",
      " |-- _c41: string (nullable = true)\n",
      " |-- _c42: string (nullable = true)\n",
      " |-- _c43: string (nullable = true)\n",
      " |-- _c44: string (nullable = true)\n",
      " |-- _c45: string (nullable = true)\n",
      " |-- _c46: string (nullable = true)\n",
      " |-- _c47: string (nullable = true)\n",
      " |-- _c48: string (nullable = true)\n",
      " |-- _c49: string (nullable = true)\n",
      " |-- _c50: string (nullable = true)\n",
      " |-- _c51: string (nullable = true)\n",
      " |-- _c52: string (nullable = true)\n",
      " |-- _c53: string (nullable = true)\n",
      " |-- _c54: string (nullable = true)\n",
      " |-- _c55: string (nullable = true)\n",
      " |-- _c56: string (nullable = true)\n",
      " |-- _c57: string (nullable = true)\n",
      " |-- _c58: string (nullable = true)\n",
      " |-- _c59: string (nullable = true)\n",
      " |-- _c60: string (nullable = true)\n",
      "\n"
     ]
    }
   ],
   "source": [
    "df_dados.printSchema()"
   ]
  },
  {
   "cell_type": "code",
   "execution_count": 11,
   "id": "65862be5",
   "metadata": {},
   "outputs": [
    {
     "data": {
      "text/plain": [
       "pyspark.sql.dataframe.DataFrame"
      ]
     },
     "execution_count": 11,
     "metadata": {},
     "output_type": "execute_result"
    }
   ],
   "source": [
    "type(df_dados)"
   ]
  },
  {
   "cell_type": "code",
   "execution_count": 12,
   "id": "151cfed3",
   "metadata": {},
   "outputs": [
    {
     "data": {
      "text/plain": [
       "[Row(_c0='GPA', _c1='Gender', _c2='breakfast', _c3='calories_chicken', _c4='calories_day', _c5='calories_scone', _c6='coffee', _c7='comfort_food', _c8='comfort_food_reasons', _c9='comfort_food_reasons_coded', _c10='cook', _c11='comfort_food_reasons_coded', _c12='cuisine', _c13='diet_current', _c14='diet_current_coded', _c15='drink', _c16='eating_changes', _c17='eating_changes_coded', _c18='eating_changes_coded1', _c19='eating_out', _c20='employment', _c21='ethnic_food', _c22='exercise', _c23='father_education', _c24='father_profession', _c25='fav_cuisine', _c26='fav_cuisine_coded', _c27='fav_food', _c28='food_childhood', _c29='fries', _c30='fruit_day', _c31='grade_level', _c32='greek_food', _c33='healthy_feeling', _c34='healthy_meal', _c35='ideal_diet', _c36='ideal_diet_coded', _c37='income', _c38='indian_food', _c39='italian_food', _c40='life_rewarding', _c41='marital_status', _c42='meals_dinner_friend', _c43='mother_education', _c44='mother_profession', _c45='nutritional_check', _c46='on_off_campus', _c47='parents_cook', _c48='pay_meal_out', _c49='persian_food', _c50='self_perception_weight', _c51='soup', _c52='sports', _c53='thai_food', _c54='tortilla_calories', _c55='turkey_calories', _c56='type_sports', _c57='veggies_day', _c58='vitamins', _c59='waffle_calories', _c60='weight'),\n",
       " Row(_c0='2.4', _c1='2', _c2='1', _c3='430', _c4='nan', _c5='315', _c6='1', _c7='none', _c8='we dont have comfort ', _c9='9', _c10='2', _c11='9', _c12='nan', _c13='eat good and exercise', _c14='1', _c15='1', _c16='eat faster ', _c17='1', _c18='1', _c19='3', _c20='3', _c21='1', _c22='1', _c23='5', _c24='profesor ', _c25='Arabic cuisine', _c26='3', _c27='1', _c28='rice  and chicken ', _c29='2', _c30='5', _c31='2', _c32='5', _c33='2', _c34='looks not oily ', _c35='being healthy ', _c36='8', _c37='5', _c38='5', _c39='5', _c40='1', _c41='1', _c42='rice, chicken,  soup', _c43='1', _c44='unemployed', _c45='5', _c46='1', _c47='1', _c48='2', _c49='5', _c50='3', _c51='1', _c52='1', _c53='1', _c54='1165', _c55='345', _c56='car racing', _c57='5', _c58='1', _c59='1315', _c60='187')]"
      ]
     },
     "execution_count": 12,
     "metadata": {},
     "output_type": "execute_result"
    }
   ],
   "source": [
    "df_dados.head(5)"
   ]
  },
  {
   "cell_type": "code",
   "execution_count": 13,
   "id": "dd6e422d",
   "metadata": {},
   "outputs": [
    {
     "name": "stdout",
     "output_type": "stream",
     "text": [
      "+---+------+---------+----------------+------------+--------------+------+------------+--------------------+--------------------+----+--------------------+-------+--------------------+------------------+-----+--------------+--------------------+--------------------+----------+----------+-----------+--------+----------------+-----------------+--------------+-----------------+--------+------------------+-----+---------+-----------+----------+---------------+---------------+--------------+----------------+------+-----------+------------+--------------+--------------+--------------------+----------------+-----------------+-----------------+-------------+------------+------------+------------+--------------------+----+------+---------+-----------------+---------------+-----------+-----------+--------+---------------+------+\n",
      "|_c0|   _c1|      _c2|             _c3|         _c4|           _c5|   _c6|         _c7|                 _c8|                 _c9|_c10|                _c11|   _c12|                _c13|              _c14| _c15|          _c16|                _c17|                _c18|      _c19|      _c20|       _c21|    _c22|            _c23|             _c24|          _c25|             _c26|    _c27|              _c28| _c29|     _c30|       _c31|      _c32|           _c33|           _c34|          _c35|            _c36|  _c37|       _c38|        _c39|          _c40|          _c41|                _c42|            _c43|             _c44|             _c45|         _c46|        _c47|        _c48|        _c49|                _c50|_c51|  _c52|     _c53|             _c54|           _c55|       _c56|       _c57|    _c58|           _c59|  _c60|\n",
      "+---+------+---------+----------------+------------+--------------+------+------------+--------------------+--------------------+----+--------------------+-------+--------------------+------------------+-----+--------------+--------------------+--------------------+----------+----------+-----------+--------+----------------+-----------------+--------------+-----------------+--------+------------------+-----+---------+-----------+----------+---------------+---------------+--------------+----------------+------+-----------+------------+--------------+--------------+--------------------+----------------+-----------------+-----------------+-------------+------------+------------+------------+--------------------+----+------+---------+-----------------+---------------+-----------+-----------+--------+---------------+------+\n",
      "|GPA|Gender|breakfast|calories_chicken|calories_day|calories_scone|coffee|comfort_food|comfort_food_reasons|comfort_food_reas...|cook|comfort_food_reas...|cuisine|        diet_current|diet_current_coded|drink|eating_changes|eating_changes_coded|eating_changes_co...|eating_out|employment|ethnic_food|exercise|father_education|father_profession|   fav_cuisine|fav_cuisine_coded|fav_food|    food_childhood|fries|fruit_day|grade_level|greek_food|healthy_feeling|   healthy_meal|    ideal_diet|ideal_diet_coded|income|indian_food|italian_food|life_rewarding|marital_status| meals_dinner_friend|mother_education|mother_profession|nutritional_check|on_off_campus|parents_cook|pay_meal_out|persian_food|self_perception_w...|soup|sports|thai_food|tortilla_calories|turkey_calories|type_sports|veggies_day|vitamins|waffle_calories|weight|\n",
      "|2.4|     2|        1|             430|         nan|           315|     1|        none|we dont have comf...|                   9|   2|                   9|    nan|eat good and exer...|                 1|    1|   eat faster |                   1|                   1|         3|         3|          1|       1|               5|        profesor |Arabic cuisine|                3|       1|rice  and chicken |    2|        5|          2|         5|              2|looks not oily |being healthy |               8|     5|          5|           5|             1|             1|rice, chicken,  soup|               1|       unemployed|                5|            1|           1|           2|           5|                   3|   1|     1|        1|             1165|            345| car racing|          5|       1|           1315|   187|\n",
      "+---+------+---------+----------------+------------+--------------+------+------------+--------------------+--------------------+----+--------------------+-------+--------------------+------------------+-----+--------------+--------------------+--------------------+----------+----------+-----------+--------+----------------+-----------------+--------------+-----------------+--------+------------------+-----+---------+-----------+----------+---------------+---------------+--------------+----------------+------+-----------+------------+--------------+--------------+--------------------+----------------+-----------------+-----------------+-------------+------------+------------+------------+--------------------+----+------+---------+-----------------+---------------+-----------+-----------+--------+---------------+------+\n",
      "\n"
     ]
    }
   ],
   "source": [
    "df_dados.show()"
   ]
  },
  {
   "cell_type": "code",
   "execution_count": 15,
   "id": "9dc7d06b",
   "metadata": {},
   "outputs": [
    {
     "name": "stdout",
     "output_type": "stream",
     "text": [
      "+---+------+------+\n",
      "|_c0|   _c1|  _c60|\n",
      "+---+------+------+\n",
      "|GPA|Gender|weight|\n",
      "|2.4|     2|   187|\n",
      "+---+------+------+\n",
      "\n"
     ]
    }
   ],
   "source": [
    "df_dados.select(['_c0', '_c1', '_c60']).show()"
   ]
  },
  {
   "cell_type": "code",
   "execution_count": 16,
   "id": "eda5d175",
   "metadata": {},
   "outputs": [
    {
     "data": {
      "text/plain": [
       "[('_c0', 'string'),\n",
       " ('_c1', 'string'),\n",
       " ('_c2', 'string'),\n",
       " ('_c3', 'string'),\n",
       " ('_c4', 'string'),\n",
       " ('_c5', 'string'),\n",
       " ('_c6', 'string'),\n",
       " ('_c7', 'string'),\n",
       " ('_c8', 'string'),\n",
       " ('_c9', 'string'),\n",
       " ('_c10', 'string'),\n",
       " ('_c11', 'string'),\n",
       " ('_c12', 'string'),\n",
       " ('_c13', 'string'),\n",
       " ('_c14', 'string'),\n",
       " ('_c15', 'string'),\n",
       " ('_c16', 'string'),\n",
       " ('_c17', 'string'),\n",
       " ('_c18', 'string'),\n",
       " ('_c19', 'string'),\n",
       " ('_c20', 'string'),\n",
       " ('_c21', 'string'),\n",
       " ('_c22', 'string'),\n",
       " ('_c23', 'string'),\n",
       " ('_c24', 'string'),\n",
       " ('_c25', 'string'),\n",
       " ('_c26', 'string'),\n",
       " ('_c27', 'string'),\n",
       " ('_c28', 'string'),\n",
       " ('_c29', 'string'),\n",
       " ('_c30', 'string'),\n",
       " ('_c31', 'string'),\n",
       " ('_c32', 'string'),\n",
       " ('_c33', 'string'),\n",
       " ('_c34', 'string'),\n",
       " ('_c35', 'string'),\n",
       " ('_c36', 'string'),\n",
       " ('_c37', 'string'),\n",
       " ('_c38', 'string'),\n",
       " ('_c39', 'string'),\n",
       " ('_c40', 'string'),\n",
       " ('_c41', 'string'),\n",
       " ('_c42', 'string'),\n",
       " ('_c43', 'string'),\n",
       " ('_c44', 'string'),\n",
       " ('_c45', 'string'),\n",
       " ('_c46', 'string'),\n",
       " ('_c47', 'string'),\n",
       " ('_c48', 'string'),\n",
       " ('_c49', 'string'),\n",
       " ('_c50', 'string'),\n",
       " ('_c51', 'string'),\n",
       " ('_c52', 'string'),\n",
       " ('_c53', 'string'),\n",
       " ('_c54', 'string'),\n",
       " ('_c55', 'string'),\n",
       " ('_c56', 'string'),\n",
       " ('_c57', 'string'),\n",
       " ('_c58', 'string'),\n",
       " ('_c59', 'string'),\n",
       " ('_c60', 'string')]"
      ]
     },
     "execution_count": 16,
     "metadata": {},
     "output_type": "execute_result"
    }
   ],
   "source": [
    "df_dados.dtypes"
   ]
  },
  {
   "cell_type": "code",
   "execution_count": null,
   "id": "d5d701a5",
   "metadata": {},
   "outputs": [],
   "source": []
  }
 ],
 "metadata": {
  "kernelspec": {
   "display_name": "Python 3 (ipykernel)",
   "language": "python",
   "name": "python3"
  },
  "language_info": {
   "codemirror_mode": {
    "name": "ipython",
    "version": 3
   },
   "file_extension": ".py",
   "mimetype": "text/x-python",
   "name": "python",
   "nbconvert_exporter": "python",
   "pygments_lexer": "ipython3",
   "version": "3.9.6"
  }
 },
 "nbformat": 4,
 "nbformat_minor": 5
}
