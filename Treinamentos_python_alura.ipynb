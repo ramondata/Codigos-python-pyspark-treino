{
 "cells": [
  {
   "cell_type": "markdown",
   "id": "e8d52992",
   "metadata": {},
   "source": [
    "# Ambiente para estudar Python referente aos cursos de Data science na Alura\n"
   ]
  },
  {
   "cell_type": "markdown",
   "id": "797bfad8",
   "metadata": {},
   "source": [
    "Função Print"
   ]
  },
  {
   "cell_type": "code",
   "execution_count": 6,
   "id": "2ddf8992",
   "metadata": {},
   "outputs": [
    {
     "name": "stdout",
     "output_type": "stream",
     "text": [
      "Testando---a função---print do python! \n",
      "Hello_World!!! \n",
      "Python é super divertido!! \n"
     ]
    }
   ],
   "source": [
    "print('Testando', 'a função', 'print do python', sep='---', end='! \\n')\n",
    "print('Hello', 'World', sep='_', end='!!! \\n')\n",
    "print('Python', 'é', 'super', 'divertido', sep=' ', end='!! \\n')"
   ]
  },
  {
   "cell_type": "markdown",
   "id": "4c854a65",
   "metadata": {},
   "source": [
    "Função input"
   ]
  },
  {
   "cell_type": "code",
   "execution_count": 7,
   "id": "143fac41",
   "metadata": {},
   "outputs": [
    {
     "name": "stdout",
     "output_type": "stream",
     "text": [
      "Digite um nome a seguir: 29\n",
      "Escreva o que quiser a seguir: 29\n",
      "Input sempre recebe dados com dtype = str, ok? ok\n"
     ]
    }
   ],
   "source": [
    "var1 = input('Digite um nome a seguir: ')\n",
    "var2 = input('Escreva o que quiser a seguir: ')\n",
    "var3 = input('Input sempre recebe dados com dtype = str, ok? ')\n"
   ]
  },
  {
   "cell_type": "markdown",
   "id": "494d0250",
   "metadata": {},
   "source": [
    "Função int"
   ]
  },
  {
   "cell_type": "code",
   "execution_count": 8,
   "id": "6526681b",
   "metadata": {},
   "outputs": [],
   "source": [
    "num_var_4 = 4\n",
    "var4 = '16'\n",
    "var4t = int(var4)"
   ]
  },
  {
   "cell_type": "markdown",
   "id": "b2e9c51f",
   "metadata": {},
   "source": [
    "Função str"
   ]
  },
  {
   "cell_type": "code",
   "execution_count": 9,
   "id": "04b32b13",
   "metadata": {},
   "outputs": [],
   "source": [
    "num_var_5 = 5\n",
    "var5 = 1992\n",
    "var5t = str(var5)"
   ]
  },
  {
   "cell_type": "markdown",
   "id": "f0626785",
   "metadata": {},
   "source": [
    "Função float"
   ]
  },
  {
   "cell_type": "code",
   "execution_count": 10,
   "id": "69d27121",
   "metadata": {},
   "outputs": [],
   "source": [
    "num_var_6 = 6\n",
    "var6 = 29\n",
    "var6t = float(var6)"
   ]
  },
  {
   "cell_type": "markdown",
   "id": "6bdd0939",
   "metadata": {},
   "source": [
    "Função Type"
   ]
  },
  {
   "cell_type": "code",
   "execution_count": 11,
   "id": "8d184710",
   "metadata": {},
   "outputs": [
    {
     "data": {
      "text/plain": [
       "str"
      ]
     },
     "execution_count": 11,
     "metadata": {},
     "output_type": "execute_result"
    }
   ],
   "source": [
    "type(var4)"
   ]
  },
  {
   "cell_type": "code",
   "execution_count": 12,
   "id": "524f22a7",
   "metadata": {},
   "outputs": [
    {
     "data": {
      "text/plain": [
       "int"
      ]
     },
     "execution_count": 12,
     "metadata": {},
     "output_type": "execute_result"
    }
   ],
   "source": [
    "\n",
    "type(var4t)"
   ]
  },
  {
   "cell_type": "code",
   "execution_count": 13,
   "id": "dbd4cbb3",
   "metadata": {},
   "outputs": [
    {
     "data": {
      "text/plain": [
       "int"
      ]
     },
     "execution_count": 13,
     "metadata": {},
     "output_type": "execute_result"
    }
   ],
   "source": [
    "type(var5)"
   ]
  },
  {
   "cell_type": "code",
   "execution_count": 14,
   "id": "14832681",
   "metadata": {},
   "outputs": [
    {
     "data": {
      "text/plain": [
       "str"
      ]
     },
     "execution_count": 14,
     "metadata": {},
     "output_type": "execute_result"
    }
   ],
   "source": [
    "type(var5t)"
   ]
  },
  {
   "cell_type": "code",
   "execution_count": 15,
   "id": "20a436b1",
   "metadata": {},
   "outputs": [
    {
     "data": {
      "text/plain": [
       "int"
      ]
     },
     "execution_count": 15,
     "metadata": {},
     "output_type": "execute_result"
    }
   ],
   "source": [
    "type(var6)"
   ]
  },
  {
   "cell_type": "code",
   "execution_count": 16,
   "id": "8723031e",
   "metadata": {},
   "outputs": [
    {
     "data": {
      "text/plain": [
       "float"
      ]
     },
     "execution_count": 16,
     "metadata": {},
     "output_type": "execute_result"
    }
   ],
   "source": [
    "type(var6t)"
   ]
  },
  {
   "cell_type": "markdown",
   "id": "3e99b768",
   "metadata": {},
   "source": [
    "Estrutura de condição if"
   ]
  },
  {
   "cell_type": "code",
   "execution_count": 17,
   "id": "9dcaa643",
   "metadata": {},
   "outputs": [
    {
     "name": "stdout",
     "output_type": "stream",
     "text": [
      "Variável 4 do tipo string. \n"
     ]
    }
   ],
   "source": [
    "if(type(var4) == int):\n",
    "    print(f'Variável {num_var_4} do tipo inteiro', sep=' ', end='. \\n')\n",
    "elif(type(var4 == str)):\n",
    "    print(f'Variável {num_var_4} do tipo string', sep=' ', end='. \\n')\n",
    "elif(type(var4 == float)):\n",
    "    print(f'Variável {num_var_4} do tipo ponto flutuante', sep=' ', end='. \\n')\n",
    "else:\n",
    "   print('Cadastrar esse tipo de dado na estrutura de condição: ', type(var4), sep=' ', end='. \\n' )"
   ]
  },
  {
   "cell_type": "code",
   "execution_count": 18,
   "id": "91d32555",
   "metadata": {},
   "outputs": [
    {
     "name": "stdout",
     "output_type": "stream",
     "text": [
      "Variável 5 do tipo inteiro. \n"
     ]
    }
   ],
   "source": [
    "if(type(var5) == int):\n",
    "    print(f'Variável {num_var_5} do tipo inteiro', sep=' ', end='. \\n')\n",
    "elif(type(var5 == str)):\n",
    "    print(f'Variável {num_var_5} do tipo string', sep=' ', end='. \\n')\n",
    "elif(type(var5 == float)):\n",
    "    print(f'Variável {num_var_5} do tipo ponto flutuante', sep=' ', end='. \\n')\n",
    "else:\n",
    "   print('Cadastrar esse tipo de dado na estrutura de condição: ', type(var5), sep=' ', end='. \\n' )"
   ]
  },
  {
   "cell_type": "code",
   "execution_count": 19,
   "id": "381be21b",
   "metadata": {},
   "outputs": [
    {
     "name": "stdout",
     "output_type": "stream",
     "text": [
      "Variável 6 do tipo inteiro. \n"
     ]
    }
   ],
   "source": [
    "if(type(var6) == int):\n",
    "    print(f'Variável {num_var_6} do tipo inteiro', sep=' ', end='. \\n')\n",
    "elif(type(var6 == str)):\n",
    "    print(f'Variável {num_var_6} do tipo string', sep=' ', end='. \\n')\n",
    "elif(type(var6 == float)):\n",
    "    print(f'Variável {num_var_6} do tipo ponto flutuante', sep=' ', end='. \\n')\n",
    "else:\n",
    "   print('Cadastrar esse tipo de dado na estrutura de condição: ', type(var6), sep=' ', end='. \\n' )"
   ]
  },
  {
   "cell_type": "markdown",
   "id": "a8db63b7",
   "metadata": {},
   "source": [
    "Estrutura de repetição while"
   ]
  },
  {
   "cell_type": "code",
   "execution_count": 20,
   "id": "76f74d08",
   "metadata": {},
   "outputs": [
    {
     "name": "stdout",
     "output_type": "stream",
     "text": [
      "0\n",
      "1\n",
      "2\n",
      "3\n",
      "4\n",
      "5\n"
     ]
    }
   ],
   "source": [
    "flag = 5\n",
    "i = 0\n",
    "while(i <= flag):\n",
    "    print(i)\n",
    "    i+=1"
   ]
  },
  {
   "cell_type": "markdown",
   "id": "72834660",
   "metadata": {},
   "source": [
    "Formatação de string"
   ]
  },
  {
   "cell_type": "code",
   "execution_count": 21,
   "id": "ff2dad7b",
   "metadata": {},
   "outputs": [
    {
     "name": "stdout",
     "output_type": "stream",
     "text": [
      "Meu nome é Ramon Barbosa, minha idade é 29 anos, meu estado civil é casado. Trabalho com Data Science\n"
     ]
    }
   ],
   "source": [
    "meu_nome = 'Ramon Barbosa'\n",
    "idade = 29\n",
    "estado_civil = 'casado'\n",
    "profissao = 'Data Science'\n",
    "print(f'Meu nome é {meu_nome}, minha idade é {idade} anos, meu estado civil é {estado_civil}. Trabalho com {profissao}')"
   ]
  },
  {
   "cell_type": "code",
   "execution_count": 22,
   "id": "e5edb8b4",
   "metadata": {},
   "outputs": [
    {
     "name": "stdout",
     "output_type": "stream",
     "text": [
      "Meu nome é Ramon Barbosa\n",
      " minha idade é 29 anos\n",
      " meu estado civil é casado\n",
      " Trabalho com Data Science\n"
     ]
    }
   ],
   "source": [
    "print('Meu nome é {0}\\n minha idade é {1} anos\\n meu estado civil é {2}\\n Trabalho com {3}'.format(meu_nome, idade, estado_civil, profissao))"
   ]
  },
  {
   "cell_type": "code",
   "execution_count": null,
   "id": "5c20936f",
   "metadata": {},
   "outputs": [],
   "source": []
  },
  {
   "cell_type": "code",
   "execution_count": 23,
   "id": "8e16961d",
   "metadata": {},
   "outputs": [
    {
     "name": "stdout",
     "output_type": "stream",
     "text": [
      "0\n",
      "1\n",
      "2\n",
      "3\n",
      "4\n",
      "5\n",
      "6\n",
      "7\n",
      "8\n",
      "9\n",
      "10\n"
     ]
    }
   ],
   "source": [
    "for interacao in range(11):\n",
    "    print(interacao)"
   ]
  },
  {
   "cell_type": "code",
   "execution_count": 24,
   "id": "dfeb07d2",
   "metadata": {},
   "outputs": [
    {
     "name": "stdout",
     "output_type": "stream",
     "text": [
      "6--->Maior que 4\n",
      "6--->Maior que 4\n",
      "6--->Maior que 4\n",
      "6--->Maior que 4\n",
      "6--->Maior que 4\n",
      "6--->Maior que 4\n",
      "6--->Maior que 4\n",
      "6--->Maior que 4\n",
      "6--->Maior que 4\n",
      "6--->Maior que 4\n",
      "6--->Maior que 4\n",
      "6--->Maior que 4\n",
      "6--->Maior que 4\n",
      "6--->Maior que 4\n",
      "6--->Maior que 4\n",
      "6--->Maior que 4\n",
      "6--->Maior que 4\n",
      "6--->Maior que 4\n",
      "6--->Maior que 4\n",
      "6--->Maior que 4\n"
     ]
    }
   ],
   "source": [
    "import random\n",
    "aleatorio = random.randrange(1, 11, 1)\n",
    "intervalo = range(20)\n",
    "for numeros in intervalo:\n",
    "    if(aleatorio <= 4):\n",
    "        print(aleatorio, 'Menor ou igual a 4', sep='--->')\n",
    "    elif(aleatorio == 4):\n",
    "        print(aleatorio, 'Igual a 4', sep='--->')\n",
    "        break\n",
    "    else:\n",
    "        print(aleatorio, 'Maior que 4', sep='--->')"
   ]
  },
  {
   "cell_type": "markdown",
   "id": "9f5acf2f",
   "metadata": {},
   "source": [
    "Criando uma função com def"
   ]
  },
  {
   "cell_type": "code",
   "execution_count": 25,
   "id": "da7432cb",
   "metadata": {},
   "outputs": [],
   "source": [
    "\n",
    "def media():\n",
    "    inicio = float(input('Numero inicial'))\n",
    "    fim = float(input('Numero final'))\n",
    "    mean = ((fim + inicio)/2)\n",
    "    mean_int = int(mean)\n",
    "    print(f'A média entre os valores informados é:\\n ponto flutuante: {mean} \\n numero inteiro: {mean_int}', end='!!')"
   ]
  },
  {
   "cell_type": "code",
   "execution_count": 26,
   "id": "11a2ac71",
   "metadata": {},
   "outputs": [
    {
     "name": "stdout",
     "output_type": "stream",
     "text": [
      "Numero inicial90\n",
      "Numero final90\n",
      "A média entre os valores informados é:\n",
      " ponto flutuante: 90.0 \n",
      " numero inteiro: 90!!"
     ]
    }
   ],
   "source": [
    "media()"
   ]
  },
  {
   "cell_type": "markdown",
   "id": "ebbd7007",
   "metadata": {},
   "source": [
    "Elaborando lista simples"
   ]
  },
  {
   "cell_type": "code",
   "execution_count": 27,
   "id": "ab5478fd",
   "metadata": {},
   "outputs": [
    {
     "data": {
      "text/plain": [
       "[10, 20, 30, 45, 55, 60, 70, 85, 90]"
      ]
     },
     "execution_count": 27,
     "metadata": {},
     "output_type": "execute_result"
    }
   ],
   "source": [
    "lista= [10, 20, 30, 45, 55, 60, 70, 85, 90]\n",
    "lista"
   ]
  },
  {
   "cell_type": "markdown",
   "id": "9db749f3",
   "metadata": {},
   "source": [
    "Contagem de itens ou caracteres"
   ]
  },
  {
   "cell_type": "code",
   "execution_count": 28,
   "id": "60b66ba5",
   "metadata": {},
   "outputs": [
    {
     "data": {
      "text/plain": [
       "9"
      ]
     },
     "execution_count": 28,
     "metadata": {},
     "output_type": "execute_result"
    }
   ],
   "source": [
    "len(lista)"
   ]
  },
  {
   "cell_type": "markdown",
   "id": "7faa9dc4",
   "metadata": {},
   "source": [
    "Gerando uma lista com o for"
   ]
  },
  {
   "cell_type": "code",
   "execution_count": 29,
   "id": "42f7d286",
   "metadata": {},
   "outputs": [],
   "source": [
    "import random\n",
    "lista_1 = []\n",
    "lista_2 = []\n",
    "lista_3 = []"
   ]
  },
  {
   "cell_type": "code",
   "execution_count": 30,
   "id": "d844cab0",
   "metadata": {},
   "outputs": [],
   "source": [
    "for lista in range(11):\n",
    "    lista_1.append(random.randrange(1, 11))\n",
    "    lista_2.append(random.randrange(100, 201))\n",
    "    lista_3.append(random.randrange(1000, 5001))"
   ]
  },
  {
   "cell_type": "code",
   "execution_count": null,
   "id": "16266109",
   "metadata": {},
   "outputs": [],
   "source": [
    "\n"
   ]
  },
  {
   "cell_type": "markdown",
   "id": "752f4c72",
   "metadata": {},
   "source": [
    "Gerando gráficos com a biblioteca matplotlib"
   ]
  },
  {
   "cell_type": "code",
   "execution_count": 31,
   "id": "a38c66d2",
   "metadata": {},
   "outputs": [],
   "source": [
    "import matplotlib.pyplot as plt"
   ]
  },
  {
   "cell_type": "code",
   "execution_count": 32,
   "id": "06590ad0",
   "metadata": {},
   "outputs": [
    {
     "data": {
      "image/png": "[encoded data removed]",
      "text/plain": [
       "<Figure size 432x288 with 1 Axes>"
      ]
     },
     "metadata": {
      "needs_background": "light"
     },
     "output_type": "display_data"
    },
    {
     "data": {
      "image/png": "[encoded data removed]",
      "text/plain": [
       "<Figure size 432x288 with 1 Axes>"
      ]
     },
     "metadata": {
      "needs_background": "light"
     },
     "output_type": "display_data"
    },
    {
     "data": {
      "image/png": "[encoded data removed]",
      "text/plain": [
       "<Figure size 432x288 with 1 Axes>"
      ]
     },
     "metadata": {
      "needs_background": "light"
     },
     "output_type": "display_data"
    }
   ],
   "source": [
    "x= range(11)\n",
    "plt.plot(x, lista_1, marker=0)\n",
    "plt.title('Diagrama teste 1')\n",
    "plt.xlabel('x_label_1')\n",
    "plt.ylabel('y_label_1')\n",
    "plt.show()\n",
    "x= range(11)\n",
    "plt.plot(x, lista_2, marker=0)\n",
    "plt.title('Diagrama teste 2')\n",
    "plt.xlabel('x_label_2')\n",
    "plt.ylabel('y_label_2')\n",
    "plt.show()\n",
    "x= range(11)\n",
    "plt.plot(x, lista_3, marker=0)\n",
    "plt.title('Diagrama teste 3')\n",
    "plt.xlabel('x_label_3')\n",
    "plt.ylabel('y_label_3')\n",
    "plt.show()"
   ]
  },
  {
   "cell_type": "markdown",
   "id": "24a6f70e",
   "metadata": {},
   "source": [
    "Iportando outro arquivo python para este arquivo\n"
   ]
  },
  {
   "cell_type": "code",
   "execution_count": 33,
   "id": "c849adbb",
   "metadata": {},
   "outputs": [
    {
     "name": "stdout",
     "output_type": "stream",
     "text": [
      "Tentativa 1 de 5\n",
      "Quantos anos eu tenho? \n",
      "29\n",
      "Você acha que eu tenho  29 anos ?\n",
      "Sou mais novo!\n",
      "Tentativa 2 de 5\n",
      "Quantos anos eu tenho? \n",
      "29\n",
      "Você acha que eu tenho  29 anos ?\n",
      "Sou mais novo!\n",
      "Tentativa 3 de 5\n",
      "Quantos anos eu tenho? \n",
      "29\n",
      "Você acha que eu tenho  29 anos ?\n",
      "Sou mais novo!\n",
      "Tentativa 4 de 5\n",
      "Quantos anos eu tenho? \n",
      "17\n",
      "Você acha que eu tenho  17 anos ?\n",
      "Sou mais novo!\n",
      "Tentativa 5 de 5\n",
      "Quantos anos eu tenho? \n",
      "78\n",
      "Você acha que eu tenho  78 anos ?\n",
      "Chute uma idade coerente\n",
      "Fim do jogo\n"
     ]
    },
    {
     "ename": "ModuleNotFoundError",
     "evalue": "No module named 'Jogo.py'; 'Jogo' is not a package",
     "output_type": "error",
     "traceback": [
      "\u001b[1;31m---------------------------------------------------------------------------\u001b[0m",
      "\u001b[1;31mModuleNotFoundError\u001b[0m                       Traceback (most recent call last)",
      "\u001b[1;32m<ipython-input-33-df2fcc0e7bff>\u001b[0m in \u001b[0;36m<module>\u001b[1;34m\u001b[0m\n\u001b[1;32m----> 1\u001b[1;33m \u001b[1;32mimport\u001b[0m \u001b[0mJogo\u001b[0m\u001b[1;33m.\u001b[0m\u001b[0mpy\u001b[0m\u001b[1;33m\u001b[0m\u001b[1;33m\u001b[0m\u001b[0m\n\u001b[0m",
      "\u001b[1;31mModuleNotFoundError\u001b[0m: No module named 'Jogo.py'; 'Jogo' is not a package"
     ]
    }
   ],
   "source": [
    "import Jogo.py"
   ]
  },
  {
   "cell_type": "markdown",
   "id": "adea1108",
   "metadata": {},
   "source": [
    "Biblioteca numpy"
   ]
  },
  {
   "cell_type": "code",
   "execution_count": null,
   "id": "708539e2",
   "metadata": {},
   "outputs": [],
   "source": [
    "import numpy as np"
   ]
  },
  {
   "cell_type": "code",
   "execution_count": null,
   "id": "e48168f8",
   "metadata": {},
   "outputs": [],
   "source": [
    "produtos = np.loadtxt('carros-nomes')\n",
    "produtos"
   ]
  },
  {
   "cell_type": "code",
   "execution_count": null,
   "id": "41e2d221",
   "metadata": {},
   "outputs": [],
   "source": []
  },
  {
   "cell_type": "code",
   "execution_count": null,
   "id": "3a5d7269",
   "metadata": {},
   "outputs": [],
   "source": []
  },
  {
   "cell_type": "code",
   "execution_count": null,
   "id": "be5be48d",
   "metadata": {},
   "outputs": [],
   "source": []
  }
 ],
 "metadata": {
  "kernelspec": {
   "display_name": "Python 3",
   "language": "python",
   "name": "python3"
  },
  "language_info": {
   "codemirror_mode": {
    "name": "ipython",
    "version": 3
   },
   "file_extension": ".py",
   "mimetype": "text/x-python",
   "name": "python",
   "nbconvert_exporter": "python",
   "pygments_lexer": "ipython3",
   "version": "3.8.8"
  }
 },
 "nbformat": 4,
 "nbformat_minor": 5
}
